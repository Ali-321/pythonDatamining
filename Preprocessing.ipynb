{
  "nbformat": 4,
  "nbformat_minor": 0,
  "metadata": {
    "colab": {
      "name": "Preprocessing.ipynb",
      "provenance": [],
      "collapsed_sections": []
    },
    "kernelspec": {
      "name": "python3",
      "display_name": "Python 3"
    }
  },
  "cells": [
    {
      "cell_type": "code",
      "metadata": {
        "id": "G9RoCMLM5GtK"
      },
      "source": [
        "import numpy as np\n",
        "import matplotlib.pyplot as plt\n",
        "import pandas as pd "
      ],
      "execution_count": null,
      "outputs": []
    },
    {
      "cell_type": "markdown",
      "metadata": {
        "id": "-HLrOja27xCS"
      },
      "source": [
        "numpy adalah library python yang digunakan untuk mengelola komputasi matriks\n"
      ]
    },
    {
      "cell_type": "code",
      "metadata": {
        "id": "Hehxpbei7-0Q"
      },
      "source": [
        "dataset = pd.read_csv('DataBalitaGiziBurukBandung.csv')\n",
        "x = dataset.iloc[:, :-1].values\n",
        "y = dataset.iloc[:, -1].values"
      ],
      "execution_count": null,
      "outputs": []
    },
    {
      "cell_type": "code",
      "metadata": {
        "colab": {
          "base_uri": "https://localhost:8080/"
        },
        "id": "f_Xb_Xzj9DM3",
        "outputId": "97408413-435b-4a70-8d18-5d1bd270d8c8"
      },
      "source": [
        "print(x)"
      ],
      "execution_count": null,
      "outputs": [
        {
          "output_type": "stream",
          "text": [
            "[['Sukasari' 1500000 12.0]\n",
            " ['Sukasari' 1500000 8.0]\n",
            " ['Sukasari' 1500000 6.0]\n",
            " ['Sukasari' 1500000 2.0]\n",
            " ['Sukajadi' 1500000 16.0]\n",
            " ['Sukajadi' 1500000 nan]\n",
            " ['Sukajadi' 2000000 11.0]\n",
            " ['Cicendo ' 1000000 6.0]\n",
            " ['Cicendo ' 1000000 6.0]\n",
            " ['Andir' 2000000 nan]\n",
            " ['Andir' 2000000 6.0]\n",
            " ['Cidadap' 2000000 12.0]\n",
            " ['Cidadap' 2000000 12.0]\n",
            " ['Coblong' 2000000 nan]\n",
            " ['Coblong' 2000000 10.0]\n",
            " ['Coblong' 2000000 2.0]\n",
            " ['Coblong' 2000000 7.0]\n",
            " ['Bandung Wetan' 2500000 2.0]\n",
            " ['Bandung Wetan' 2500000 13.0]]\n"
          ],
          "name": "stdout"
        }
      ]
    },
    {
      "cell_type": "code",
      "metadata": {
        "colab": {
          "base_uri": "https://localhost:8080/"
        },
        "id": "OyVyXzsH9QbL",
        "outputId": "64a7dd06-649e-4291-bb48-ada1e4cfa73c"
      },
      "source": [
        "print(y)"
      ],
      "execution_count": null,
      "outputs": [
        {
          "output_type": "stream",
          "text": [
            "['yes' 'yes' 'no' 'yes' 'no' 'yes' 'yes' 'no' 'yes' 'yes' 'no' 'yes' 'no'\n",
            " 'yes' 'yes' 'yes' 'yes' 'yes' 'yes']\n"
          ],
          "name": "stdout"
        }
      ]
    },
    {
      "cell_type": "code",
      "metadata": {
        "id": "Ft5YsAcUNGw3"
      },
      "source": [
        "from sklearn.impute import SimpleImputer\n",
        "imputer = SimpleImputer(missing_values=np.nan, strategy='mean')\n",
        "imputer.fit(x[:, 1:3])\n",
        "x[:, 1:3] = imputer.transform(x[:, 1:3])"
      ],
      "execution_count": null,
      "outputs": []
    },
    {
      "cell_type": "code",
      "metadata": {
        "colab": {
          "base_uri": "https://localhost:8080/"
        },
        "id": "1NCAVjg5EzPL",
        "outputId": "b60c0103-2317-4e7c-a6a6-5d2c4758775f"
      },
      "source": [
        "print(x)"
      ],
      "execution_count": null,
      "outputs": [
        {
          "output_type": "stream",
          "text": [
            "[['Sukasari' 1500000 12.0]\n",
            " ['Sukasari' 1500000 8.0]\n",
            " ['Sukasari' 1500000 6.0]\n",
            " ['Sukasari' 1500000 2.0]\n",
            " ['Sukajadi' 1500000 16.0]\n",
            " ['Sukajadi' 1500000 nan]\n",
            " ['Sukajadi' 2000000 11.0]\n",
            " ['Cicendo ' 1000000 6.0]\n",
            " ['Cicendo ' 1000000 6.0]\n",
            " ['Andir' 2000000 nan]\n",
            " ['Andir' 2000000 6.0]\n",
            " ['Cidadap' 2000000 12.0]\n",
            " ['Cidadap' 2000000 12.0]\n",
            " ['Coblong' 2000000 nan]\n",
            " ['Coblong' 2000000 10.0]\n",
            " ['Coblong' 2000000 2.0]\n",
            " ['Coblong' 2000000 7.0]\n",
            " ['Bandung Wetan' 2500000 2.0]\n",
            " ['Bandung Wetan' 2500000 13.0]]\n"
          ],
          "name": "stdout"
        }
      ]
    },
    {
      "cell_type": "code",
      "metadata": {
        "id": "go1AZWKr-5Dl"
      },
      "source": [
        "from sklearn.compose import ColumnTransformer\n",
        "from sklearn.preprocessing import OneHotEncoder\n",
        "ct = ColumnTransformer(transformers=[('ecoder',OneHotEncoder(),[0])], remainder = 'passthrough')\n",
        "x = np.array(ct.fit_transform(x))\n"
      ],
      "execution_count": null,
      "outputs": []
    },
    {
      "cell_type": "code",
      "metadata": {
        "colab": {
          "base_uri": "https://localhost:8080/"
        },
        "id": "pvjQcmtaEbxj",
        "outputId": "22049c9e-e76d-4db6-bf9d-f3c7e9834bad"
      },
      "source": [
        "print(x)"
      ],
      "execution_count": null,
      "outputs": [
        {
          "output_type": "stream",
          "text": [
            "[[0.0 0.0 0.0 0.0 0.0 0.0 1.0 1500000.0 12.0]\n",
            " [0.0 0.0 0.0 0.0 0.0 0.0 1.0 1500000.0 8.0]\n",
            " [0.0 0.0 0.0 0.0 0.0 0.0 1.0 1500000.0 6.0]\n",
            " [0.0 0.0 0.0 0.0 0.0 0.0 1.0 1500000.0 2.0]\n",
            " [0.0 0.0 0.0 0.0 0.0 1.0 0.0 1500000.0 16.0]\n",
            " [0.0 0.0 0.0 0.0 0.0 1.0 0.0 1500000.0 8.1875]\n",
            " [0.0 0.0 0.0 0.0 0.0 1.0 0.0 2000000.0 11.0]\n",
            " [0.0 0.0 1.0 0.0 0.0 0.0 0.0 1000000.0 6.0]\n",
            " [0.0 0.0 1.0 0.0 0.0 0.0 0.0 1000000.0 6.0]\n",
            " [1.0 0.0 0.0 0.0 0.0 0.0 0.0 2000000.0 8.1875]\n",
            " [1.0 0.0 0.0 0.0 0.0 0.0 0.0 2000000.0 6.0]\n",
            " [0.0 0.0 0.0 1.0 0.0 0.0 0.0 2000000.0 12.0]\n",
            " [0.0 0.0 0.0 1.0 0.0 0.0 0.0 2000000.0 12.0]\n",
            " [0.0 0.0 0.0 0.0 1.0 0.0 0.0 2000000.0 8.1875]\n",
            " [0.0 0.0 0.0 0.0 1.0 0.0 0.0 2000000.0 10.0]\n",
            " [0.0 0.0 0.0 0.0 1.0 0.0 0.0 2000000.0 2.0]\n",
            " [0.0 0.0 0.0 0.0 1.0 0.0 0.0 2000000.0 7.0]\n",
            " [0.0 1.0 0.0 0.0 0.0 0.0 0.0 2500000.0 2.0]\n",
            " [0.0 1.0 0.0 0.0 0.0 0.0 0.0 2500000.0 13.0]]\n"
          ],
          "name": "stdout"
        }
      ]
    },
    {
      "cell_type": "code",
      "metadata": {
        "id": "V4K__r7bC_UQ"
      },
      "source": [
        "from sklearn.preprocessing import LabelEncoder\n",
        "le = LabelEncoder()\n",
        "y = le.fit_transform(y)"
      ],
      "execution_count": null,
      "outputs": []
    },
    {
      "cell_type": "code",
      "metadata": {
        "colab": {
          "base_uri": "https://localhost:8080/"
        },
        "id": "13VQGU9oEYJz",
        "outputId": "07a2eeeb-a87e-4162-9860-bfe5eb7e14ef"
      },
      "source": [
        "print(y)"
      ],
      "execution_count": null,
      "outputs": [
        {
          "output_type": "stream",
          "text": [
            "[1 1 0 1 0 1 1 0 1 1 0 1 0 1 1 1 1 1 1]\n"
          ],
          "name": "stdout"
        }
      ]
    },
    {
      "cell_type": "code",
      "metadata": {
        "id": "IQzImEa5DaJi"
      },
      "source": [
        "from sklearn.model_selection import train_test_split\n",
        "x_train, x_test, y_train, y_test = train_test_split(x,y, train_size=0.2, random_state=1)"
      ],
      "execution_count": null,
      "outputs": []
    },
    {
      "cell_type": "code",
      "metadata": {
        "colab": {
          "base_uri": "https://localhost:8080/"
        },
        "id": "UbbwLJFGF8lg",
        "outputId": "ad1dc8d0-8157-4238-a6b0-3f6889cb6d9e"
      },
      "source": [
        "print(x_train)"
      ],
      "execution_count": null,
      "outputs": [
        {
          "output_type": "stream",
          "text": [
            "[[0.0 0.0 0.0 1.0 0.0 0.0 0.0 2000000.0 12.0]\n",
            " [0.0 0.0 0.0 1.0 0.0 0.0 0.0 2000000.0 12.0]\n",
            " [0.0 0.0 0.0 0.0 0.0 1.0 0.0 1500000.0 8.1875]]\n"
          ],
          "name": "stdout"
        }
      ]
    },
    {
      "cell_type": "code",
      "metadata": {
        "colab": {
          "base_uri": "https://localhost:8080/"
        },
        "id": "oo1PSi0pGBVD",
        "outputId": "906da911-a699-4d09-ff36-3eb19bc5ac04"
      },
      "source": [
        "print(x_test)"
      ],
      "execution_count": null,
      "outputs": [
        {
          "output_type": "stream",
          "text": [
            "[[0.0 0.0 0.0 0.0 0.0 0.0 1.0 1500000.0 2.0]\n",
            " [0.0 0.0 0.0 0.0 1.0 0.0 0.0 2000000.0 2.0]\n",
            " [0.0 0.0 0.0 0.0 0.0 1.0 0.0 2000000.0 11.0]\n",
            " [1.0 0.0 0.0 0.0 0.0 0.0 0.0 2000000.0 6.0]\n",
            " [0.0 0.0 0.0 0.0 0.0 0.0 1.0 1500000.0 6.0]\n",
            " [0.0 0.0 0.0 0.0 1.0 0.0 0.0 2000000.0 10.0]\n",
            " [0.0 0.0 0.0 0.0 0.0 1.0 0.0 1500000.0 16.0]\n",
            " [0.0 0.0 0.0 0.0 1.0 0.0 0.0 2000000.0 7.0]\n",
            " [0.0 0.0 1.0 0.0 0.0 0.0 0.0 1000000.0 6.0]\n",
            " [0.0 0.0 0.0 0.0 0.0 0.0 1.0 1500000.0 8.0]\n",
            " [0.0 0.0 0.0 0.0 1.0 0.0 0.0 2000000.0 8.1875]\n",
            " [0.0 0.0 0.0 0.0 0.0 0.0 1.0 1500000.0 12.0]\n",
            " [0.0 1.0 0.0 0.0 0.0 0.0 0.0 2500000.0 13.0]\n",
            " [0.0 1.0 0.0 0.0 0.0 0.0 0.0 2500000.0 2.0]\n",
            " [1.0 0.0 0.0 0.0 0.0 0.0 0.0 2000000.0 8.1875]\n",
            " [0.0 0.0 1.0 0.0 0.0 0.0 0.0 1000000.0 6.0]]\n"
          ],
          "name": "stdout"
        }
      ]
    },
    {
      "cell_type": "code",
      "metadata": {
        "colab": {
          "base_uri": "https://localhost:8080/"
        },
        "id": "0OPhFyBZGUIY",
        "outputId": "1bcc0f8a-9aa9-48ee-9e7f-b586aa692d12"
      },
      "source": [
        "print(y_train)"
      ],
      "execution_count": null,
      "outputs": [
        {
          "output_type": "stream",
          "text": [
            "[0 1 1]\n"
          ],
          "name": "stdout"
        }
      ]
    },
    {
      "cell_type": "code",
      "metadata": {
        "colab": {
          "base_uri": "https://localhost:8080/"
        },
        "id": "4ihrakhTGqG3",
        "outputId": "7f7df86c-4237-45f3-ceb5-3d86a54be955"
      },
      "source": [
        "print(y_test)"
      ],
      "execution_count": null,
      "outputs": [
        {
          "output_type": "stream",
          "text": [
            "[1 1 1 0 0 1 0 1 0 1 1 1 1 1 1 1]\n"
          ],
          "name": "stdout"
        }
      ]
    },
    {
      "cell_type": "code",
      "metadata": {
        "id": "aI2tv63RGwx3"
      },
      "source": [
        "from sklearn.preprocessing import StandardScaler\n",
        "sc = StandardScaler()\n",
        "x_train[:,3:] = sc.fit_transform(x_train[:,3:])\n",
        "x_test[:, 3:] = sc.transform(x_test[:, 3:])"
      ],
      "execution_count": null,
      "outputs": []
    },
    {
      "cell_type": "code",
      "metadata": {
        "colab": {
          "base_uri": "https://localhost:8080/"
        },
        "id": "60cTImmJJTbT",
        "outputId": "41f73bbe-8441-4a42-da63-31fec3530ffb"
      },
      "source": [
        "print(x_train)"
      ],
      "execution_count": null,
      "outputs": [
        {
          "output_type": "stream",
          "text": [
            "[[0.0 0.0 0.0 0.7071067811865476 0.0 -0.7071067811865475 0.0\n",
            "  0.7071067811865479 0.7071067811865479]\n",
            " [0.0 0.0 0.0 0.7071067811865476 0.0 -0.7071067811865475 0.0\n",
            "  0.7071067811865479 0.7071067811865479]\n",
            " [0.0 0.0 0.0 -1.414213562373095 0.0 1.4142135623730951 0.0\n",
            "  -1.4142135623730947 -1.4142135623730947]]\n"
          ],
          "name": "stdout"
        }
      ]
    },
    {
      "cell_type": "code",
      "metadata": {
        "colab": {
          "base_uri": "https://localhost:8080/"
        },
        "id": "0N0vbjTmJWZz",
        "outputId": "77fae58c-3a34-48f5-81d2-bed6f0e9603f"
      },
      "source": [
        "print(x_test)"
      ],
      "execution_count": null,
      "outputs": [
        {
          "output_type": "stream",
          "text": [
            "[[0.0 0.0 0.0 -1.414213562373095 0.0 -0.7071067811865475 1.0\n",
            "  -1.4142135623730947 -4.857012152740384]\n",
            " [0.0 0.0 0.0 -1.414213562373095 1.0 -0.7071067811865475 0.0\n",
            "  0.7071067811865479 -4.857012152740384]\n",
            " [0.0 0.0 0.0 -1.414213562373095 0.0 1.4142135623730951 0.0\n",
            "  0.7071067811865479 0.15069488779385473]\n",
            " [1.0 0.0 0.0 -1.414213562373095 0.0 -0.7071067811865475 0.0\n",
            "  0.7071067811865479 -2.631364579169611]\n",
            " [0.0 0.0 0.0 -1.414213562373095 0.0 -0.7071067811865475 1.0\n",
            "  -1.4142135623730947 -2.631364579169611]\n",
            " [0.0 0.0 0.0 -1.414213562373095 1.0 -0.7071067811865475 0.0\n",
            "  0.7071067811865479 -0.40571700559883844]\n",
            " [0.0 0.0 0.0 -1.414213562373095 0.0 1.4142135623730951 0.0\n",
            "  -1.4142135623730947 2.9327543547573205]\n",
            " [0.0 0.0 0.0 -1.414213562373095 1.0 -0.7071067811865475 0.0\n",
            "  0.7071067811865479 -2.074952685776918]\n",
            " [0.0 0.0 1.0 -1.414213562373095 0.0 -0.7071067811865475 0.0\n",
            "  -3.5355339059327373 -2.631364579169611]\n",
            " [0.0 0.0 0.0 -1.414213562373095 0.0 -0.7071067811865475 1.0\n",
            "  -1.4142135623730947 -1.5185407923842247]\n",
            " [0.0 0.0 0.0 -1.414213562373095 1.0 -0.7071067811865475 0.0\n",
            "  0.7071067811865479 -1.4142135623730947]\n",
            " [0.0 0.0 0.0 -1.414213562373095 0.0 -0.7071067811865475 1.0\n",
            "  -1.4142135623730947 0.7071067811865479]\n",
            " [0.0 1.0 0.0 -1.414213562373095 0.0 -0.7071067811865475 0.0\n",
            "  2.8284271247461907 1.263518674579241]\n",
            " [0.0 1.0 0.0 -1.414213562373095 0.0 -0.7071067811865475 0.0\n",
            "  2.8284271247461907 -4.857012152740384]\n",
            " [1.0 0.0 0.0 -1.414213562373095 0.0 -0.7071067811865475 0.0\n",
            "  0.7071067811865479 -1.4142135623730947]\n",
            " [0.0 0.0 1.0 -1.414213562373095 0.0 -0.7071067811865475 0.0\n",
            "  -3.5355339059327373 -2.631364579169611]]\n"
          ],
          "name": "stdout"
        }
      ]
    },
    {
      "cell_type": "code",
      "metadata": {
        "id": "qZaXN_wukpBv"
      },
      "source": [
        ""
      ],
      "execution_count": null,
      "outputs": []
    },
    {
      "cell_type": "code",
      "metadata": {
        "id": "DAHka-VjkvGT"
      },
      "source": [
        "from google.colab import drive\n",
        "drive.mount('/content/drive')"
      ],
      "execution_count": null,
      "outputs": []
    }
  ]
}